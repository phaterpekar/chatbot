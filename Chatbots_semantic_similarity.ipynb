{
  "nbformat": 4,
  "nbformat_minor": 0,
  "metadata": {
    "colab": {
      "name": "Chatbots_semantic_similarity.ipynb",
      "provenance": [],
      "collapsed_sections": []
    },
    "kernelspec": {
      "name": "python3",
      "display_name": "Python 3"
    },
    "accelerator": "GPU"
  },
  "cells": [
    {
      "cell_type": "code",
      "metadata": {
        "id": "1HzeuBnRHUF6",
        "colab_type": "code",
        "outputId": "d272f361-fb73-4902-fc57-3dc64fee127a",
        "colab": {
          "base_uri": "https://localhost:8080/",
          "height": 1000
        }
      },
      "source": [
        "!pip install transformers\n",
        "!pip install sentence_transformers\n",
        "!pip install spacy\n",
        "!python -m spacy download en_core_web_lg\n"
      ],
      "execution_count": 0,
      "outputs": [
        {
          "output_type": "stream",
          "text": [
            "Collecting transformers\n",
            "\u001b[?25l  Downloading https://files.pythonhosted.org/packages/22/97/7db72a0beef1825f82188a4b923e62a146271ac2ced7928baa4d47ef2467/transformers-2.9.1-py3-none-any.whl (641kB)\n",
            "\u001b[K     |████████████████████████████████| 645kB 3.5MB/s \n",
            "\u001b[?25hCollecting sacremoses\n",
            "\u001b[?25l  Downloading https://files.pythonhosted.org/packages/7d/34/09d19aff26edcc8eb2a01bed8e98f13a1537005d31e95233fd48216eed10/sacremoses-0.0.43.tar.gz (883kB)\n",
            "\u001b[K     |████████████████████████████████| 890kB 16.8MB/s \n",
            "\u001b[?25hRequirement already satisfied: filelock in /usr/local/lib/python3.6/dist-packages (from transformers) (3.0.12)\n",
            "Requirement already satisfied: tqdm>=4.27 in /usr/local/lib/python3.6/dist-packages (from transformers) (4.41.1)\n",
            "Requirement already satisfied: numpy in /usr/local/lib/python3.6/dist-packages (from transformers) (1.18.4)\n",
            "Requirement already satisfied: regex!=2019.12.17 in /usr/local/lib/python3.6/dist-packages (from transformers) (2019.12.20)\n",
            "Collecting sentencepiece\n",
            "\u001b[?25l  Downloading https://files.pythonhosted.org/packages/3b/88/49e772d686088e1278766ad68a463513642a2a877487decbd691dec02955/sentencepiece-0.1.90-cp36-cp36m-manylinux1_x86_64.whl (1.1MB)\n",
            "\u001b[K     |████████████████████████████████| 1.1MB 23.4MB/s \n",
            "\u001b[?25hRequirement already satisfied: dataclasses; python_version < \"3.7\" in /usr/local/lib/python3.6/dist-packages (from transformers) (0.7)\n",
            "Requirement already satisfied: requests in /usr/local/lib/python3.6/dist-packages (from transformers) (2.23.0)\n",
            "Collecting tokenizers==0.7.0\n",
            "\u001b[?25l  Downloading https://files.pythonhosted.org/packages/14/e5/a26eb4716523808bb0a799fcfdceb6ebf77a18169d9591b2f46a9adb87d9/tokenizers-0.7.0-cp36-cp36m-manylinux1_x86_64.whl (3.8MB)\n",
            "\u001b[K     |████████████████████████████████| 3.8MB 32.0MB/s \n",
            "\u001b[?25hRequirement already satisfied: six in /usr/local/lib/python3.6/dist-packages (from sacremoses->transformers) (1.12.0)\n",
            "Requirement already satisfied: click in /usr/local/lib/python3.6/dist-packages (from sacremoses->transformers) (7.1.2)\n",
            "Requirement already satisfied: joblib in /usr/local/lib/python3.6/dist-packages (from sacremoses->transformers) (0.14.1)\n",
            "Requirement already satisfied: idna<3,>=2.5 in /usr/local/lib/python3.6/dist-packages (from requests->transformers) (2.9)\n",
            "Requirement already satisfied: urllib3!=1.25.0,!=1.25.1,<1.26,>=1.21.1 in /usr/local/lib/python3.6/dist-packages (from requests->transformers) (1.24.3)\n",
            "Requirement already satisfied: certifi>=2017.4.17 in /usr/local/lib/python3.6/dist-packages (from requests->transformers) (2020.4.5.1)\n",
            "Requirement already satisfied: chardet<4,>=3.0.2 in /usr/local/lib/python3.6/dist-packages (from requests->transformers) (3.0.4)\n",
            "Building wheels for collected packages: sacremoses\n",
            "  Building wheel for sacremoses (setup.py) ... \u001b[?25l\u001b[?25hdone\n",
            "  Created wheel for sacremoses: filename=sacremoses-0.0.43-cp36-none-any.whl size=893260 sha256=7822b4a73e14b6f6d976f673f1c7381c86891f64676b49eff51367f3aa68e2f8\n",
            "  Stored in directory: /root/.cache/pip/wheels/29/3c/fd/7ce5c3f0666dab31a50123635e6fb5e19ceb42ce38d4e58f45\n",
            "Successfully built sacremoses\n",
            "Installing collected packages: sacremoses, sentencepiece, tokenizers, transformers\n",
            "Successfully installed sacremoses-0.0.43 sentencepiece-0.1.90 tokenizers-0.7.0 transformers-2.9.1\n",
            "Collecting sentence_transformers\n",
            "\u001b[?25l  Downloading https://files.pythonhosted.org/packages/b9/46/b7d6c37d92d1bd65319220beabe4df845434930e3f30e42d3cfaecb74dc4/sentence-transformers-0.2.6.1.tar.gz (55kB)\n",
            "\u001b[K     |████████████████████████████████| 61kB 2.4MB/s \n",
            "\u001b[?25hRequirement already satisfied: transformers>=2.8.0 in /usr/local/lib/python3.6/dist-packages (from sentence_transformers) (2.9.1)\n",
            "Requirement already satisfied: tqdm in /usr/local/lib/python3.6/dist-packages (from sentence_transformers) (4.41.1)\n",
            "Requirement already satisfied: torch>=1.0.1 in /usr/local/lib/python3.6/dist-packages (from sentence_transformers) (1.5.0+cu101)\n",
            "Requirement already satisfied: numpy in /usr/local/lib/python3.6/dist-packages (from sentence_transformers) (1.18.4)\n",
            "Requirement already satisfied: scikit-learn in /usr/local/lib/python3.6/dist-packages (from sentence_transformers) (0.22.2.post1)\n",
            "Requirement already satisfied: scipy in /usr/local/lib/python3.6/dist-packages (from sentence_transformers) (1.4.1)\n",
            "Requirement already satisfied: nltk in /usr/local/lib/python3.6/dist-packages (from sentence_transformers) (3.2.5)\n",
            "Requirement already satisfied: requests in /usr/local/lib/python3.6/dist-packages (from transformers>=2.8.0->sentence_transformers) (2.23.0)\n",
            "Requirement already satisfied: sacremoses in /usr/local/lib/python3.6/dist-packages (from transformers>=2.8.0->sentence_transformers) (0.0.43)\n",
            "Requirement already satisfied: regex!=2019.12.17 in /usr/local/lib/python3.6/dist-packages (from transformers>=2.8.0->sentence_transformers) (2019.12.20)\n",
            "Requirement already satisfied: dataclasses; python_version < \"3.7\" in /usr/local/lib/python3.6/dist-packages (from transformers>=2.8.0->sentence_transformers) (0.7)\n",
            "Requirement already satisfied: sentencepiece in /usr/local/lib/python3.6/dist-packages (from transformers>=2.8.0->sentence_transformers) (0.1.90)\n",
            "Requirement already satisfied: filelock in /usr/local/lib/python3.6/dist-packages (from transformers>=2.8.0->sentence_transformers) (3.0.12)\n",
            "Requirement already satisfied: tokenizers==0.7.0 in /usr/local/lib/python3.6/dist-packages (from transformers>=2.8.0->sentence_transformers) (0.7.0)\n",
            "Requirement already satisfied: future in /usr/local/lib/python3.6/dist-packages (from torch>=1.0.1->sentence_transformers) (0.16.0)\n",
            "Requirement already satisfied: joblib>=0.11 in /usr/local/lib/python3.6/dist-packages (from scikit-learn->sentence_transformers) (0.14.1)\n",
            "Requirement already satisfied: six in /usr/local/lib/python3.6/dist-packages (from nltk->sentence_transformers) (1.12.0)\n",
            "Requirement already satisfied: certifi>=2017.4.17 in /usr/local/lib/python3.6/dist-packages (from requests->transformers>=2.8.0->sentence_transformers) (2020.4.5.1)\n",
            "Requirement already satisfied: idna<3,>=2.5 in /usr/local/lib/python3.6/dist-packages (from requests->transformers>=2.8.0->sentence_transformers) (2.9)\n",
            "Requirement already satisfied: chardet<4,>=3.0.2 in /usr/local/lib/python3.6/dist-packages (from requests->transformers>=2.8.0->sentence_transformers) (3.0.4)\n",
            "Requirement already satisfied: urllib3!=1.25.0,!=1.25.1,<1.26,>=1.21.1 in /usr/local/lib/python3.6/dist-packages (from requests->transformers>=2.8.0->sentence_transformers) (1.24.3)\n",
            "Requirement already satisfied: click in /usr/local/lib/python3.6/dist-packages (from sacremoses->transformers>=2.8.0->sentence_transformers) (7.1.2)\n",
            "Building wheels for collected packages: sentence-transformers\n",
            "  Building wheel for sentence-transformers (setup.py) ... \u001b[?25l\u001b[?25hdone\n",
            "  Created wheel for sentence-transformers: filename=sentence_transformers-0.2.6.1-cp36-none-any.whl size=74031 sha256=e34246563b899c88d4317bbd86f843dde764a0417664192ca3a374024c83a2d6\n",
            "  Stored in directory: /root/.cache/pip/wheels/d7/fa/17/2b081a8cd8b0a86753fb0e9826b3cc19f0207062c0b2da7008\n",
            "Successfully built sentence-transformers\n",
            "Installing collected packages: sentence-transformers\n",
            "Successfully installed sentence-transformers-0.2.6.1\n",
            "Requirement already satisfied: spacy in /usr/local/lib/python3.6/dist-packages (2.2.4)\n",
            "Requirement already satisfied: setuptools in /usr/local/lib/python3.6/dist-packages (from spacy) (46.3.0)\n",
            "Requirement already satisfied: srsly<1.1.0,>=1.0.2 in /usr/local/lib/python3.6/dist-packages (from spacy) (1.0.2)\n",
            "Requirement already satisfied: blis<0.5.0,>=0.4.0 in /usr/local/lib/python3.6/dist-packages (from spacy) (0.4.1)\n",
            "Requirement already satisfied: thinc==7.4.0 in /usr/local/lib/python3.6/dist-packages (from spacy) (7.4.0)\n",
            "Requirement already satisfied: numpy>=1.15.0 in /usr/local/lib/python3.6/dist-packages (from spacy) (1.18.4)\n",
            "Requirement already satisfied: tqdm<5.0.0,>=4.38.0 in /usr/local/lib/python3.6/dist-packages (from spacy) (4.41.1)\n",
            "Requirement already satisfied: requests<3.0.0,>=2.13.0 in /usr/local/lib/python3.6/dist-packages (from spacy) (2.23.0)\n",
            "Requirement already satisfied: wasabi<1.1.0,>=0.4.0 in /usr/local/lib/python3.6/dist-packages (from spacy) (0.6.0)\n",
            "Requirement already satisfied: cymem<2.1.0,>=2.0.2 in /usr/local/lib/python3.6/dist-packages (from spacy) (2.0.3)\n",
            "Requirement already satisfied: plac<1.2.0,>=0.9.6 in /usr/local/lib/python3.6/dist-packages (from spacy) (1.1.3)\n",
            "Requirement already satisfied: catalogue<1.1.0,>=0.0.7 in /usr/local/lib/python3.6/dist-packages (from spacy) (1.0.0)\n",
            "Requirement already satisfied: preshed<3.1.0,>=3.0.2 in /usr/local/lib/python3.6/dist-packages (from spacy) (3.0.2)\n",
            "Requirement already satisfied: murmurhash<1.1.0,>=0.28.0 in /usr/local/lib/python3.6/dist-packages (from spacy) (1.0.2)\n",
            "Requirement already satisfied: chardet<4,>=3.0.2 in /usr/local/lib/python3.6/dist-packages (from requests<3.0.0,>=2.13.0->spacy) (3.0.4)\n",
            "Requirement already satisfied: idna<3,>=2.5 in /usr/local/lib/python3.6/dist-packages (from requests<3.0.0,>=2.13.0->spacy) (2.9)\n",
            "Requirement already satisfied: certifi>=2017.4.17 in /usr/local/lib/python3.6/dist-packages (from requests<3.0.0,>=2.13.0->spacy) (2020.4.5.1)\n",
            "Requirement already satisfied: urllib3!=1.25.0,!=1.25.1,<1.26,>=1.21.1 in /usr/local/lib/python3.6/dist-packages (from requests<3.0.0,>=2.13.0->spacy) (1.24.3)\n",
            "Requirement already satisfied: importlib-metadata>=0.20; python_version < \"3.8\" in /usr/local/lib/python3.6/dist-packages (from catalogue<1.1.0,>=0.0.7->spacy) (1.6.0)\n",
            "Requirement already satisfied: zipp>=0.5 in /usr/local/lib/python3.6/dist-packages (from importlib-metadata>=0.20; python_version < \"3.8\"->catalogue<1.1.0,>=0.0.7->spacy) (3.1.0)\n",
            "Collecting en_core_web_lg==2.2.5\n",
            "\u001b[?25l  Downloading https://github.com/explosion/spacy-models/releases/download/en_core_web_lg-2.2.5/en_core_web_lg-2.2.5.tar.gz (827.9MB)\n",
            "\u001b[K     |████████████████████████████████| 827.9MB 1.1MB/s \n",
            "\u001b[?25hRequirement already satisfied: spacy>=2.2.2 in /usr/local/lib/python3.6/dist-packages (from en_core_web_lg==2.2.5) (2.2.4)\n",
            "Requirement already satisfied: plac<1.2.0,>=0.9.6 in /usr/local/lib/python3.6/dist-packages (from spacy>=2.2.2->en_core_web_lg==2.2.5) (1.1.3)\n",
            "Requirement already satisfied: thinc==7.4.0 in /usr/local/lib/python3.6/dist-packages (from spacy>=2.2.2->en_core_web_lg==2.2.5) (7.4.0)\n",
            "Requirement already satisfied: wasabi<1.1.0,>=0.4.0 in /usr/local/lib/python3.6/dist-packages (from spacy>=2.2.2->en_core_web_lg==2.2.5) (0.6.0)\n",
            "Requirement already satisfied: tqdm<5.0.0,>=4.38.0 in /usr/local/lib/python3.6/dist-packages (from spacy>=2.2.2->en_core_web_lg==2.2.5) (4.41.1)\n",
            "Requirement already satisfied: catalogue<1.1.0,>=0.0.7 in /usr/local/lib/python3.6/dist-packages (from spacy>=2.2.2->en_core_web_lg==2.2.5) (1.0.0)\n",
            "Requirement already satisfied: blis<0.5.0,>=0.4.0 in /usr/local/lib/python3.6/dist-packages (from spacy>=2.2.2->en_core_web_lg==2.2.5) (0.4.1)\n",
            "Requirement already satisfied: murmurhash<1.1.0,>=0.28.0 in /usr/local/lib/python3.6/dist-packages (from spacy>=2.2.2->en_core_web_lg==2.2.5) (1.0.2)\n",
            "Requirement already satisfied: preshed<3.1.0,>=3.0.2 in /usr/local/lib/python3.6/dist-packages (from spacy>=2.2.2->en_core_web_lg==2.2.5) (3.0.2)\n",
            "Requirement already satisfied: srsly<1.1.0,>=1.0.2 in /usr/local/lib/python3.6/dist-packages (from spacy>=2.2.2->en_core_web_lg==2.2.5) (1.0.2)\n",
            "Requirement already satisfied: setuptools in /usr/local/lib/python3.6/dist-packages (from spacy>=2.2.2->en_core_web_lg==2.2.5) (46.3.0)\n",
            "Requirement already satisfied: numpy>=1.15.0 in /usr/local/lib/python3.6/dist-packages (from spacy>=2.2.2->en_core_web_lg==2.2.5) (1.18.4)\n",
            "Requirement already satisfied: cymem<2.1.0,>=2.0.2 in /usr/local/lib/python3.6/dist-packages (from spacy>=2.2.2->en_core_web_lg==2.2.5) (2.0.3)\n",
            "Requirement already satisfied: requests<3.0.0,>=2.13.0 in /usr/local/lib/python3.6/dist-packages (from spacy>=2.2.2->en_core_web_lg==2.2.5) (2.23.0)\n",
            "Requirement already satisfied: importlib-metadata>=0.20; python_version < \"3.8\" in /usr/local/lib/python3.6/dist-packages (from catalogue<1.1.0,>=0.0.7->spacy>=2.2.2->en_core_web_lg==2.2.5) (1.6.0)\n",
            "Requirement already satisfied: urllib3!=1.25.0,!=1.25.1,<1.26,>=1.21.1 in /usr/local/lib/python3.6/dist-packages (from requests<3.0.0,>=2.13.0->spacy>=2.2.2->en_core_web_lg==2.2.5) (1.24.3)\n",
            "Requirement already satisfied: idna<3,>=2.5 in /usr/local/lib/python3.6/dist-packages (from requests<3.0.0,>=2.13.0->spacy>=2.2.2->en_core_web_lg==2.2.5) (2.9)\n",
            "Requirement already satisfied: chardet<4,>=3.0.2 in /usr/local/lib/python3.6/dist-packages (from requests<3.0.0,>=2.13.0->spacy>=2.2.2->en_core_web_lg==2.2.5) (3.0.4)\n",
            "Requirement already satisfied: certifi>=2017.4.17 in /usr/local/lib/python3.6/dist-packages (from requests<3.0.0,>=2.13.0->spacy>=2.2.2->en_core_web_lg==2.2.5) (2020.4.5.1)\n",
            "Requirement already satisfied: zipp>=0.5 in /usr/local/lib/python3.6/dist-packages (from importlib-metadata>=0.20; python_version < \"3.8\"->catalogue<1.1.0,>=0.0.7->spacy>=2.2.2->en_core_web_lg==2.2.5) (3.1.0)\n",
            "Building wheels for collected packages: en-core-web-lg\n",
            "  Building wheel for en-core-web-lg (setup.py) ... \u001b[?25l\u001b[?25hdone\n",
            "  Created wheel for en-core-web-lg: filename=en_core_web_lg-2.2.5-cp36-none-any.whl size=829180944 sha256=7cfed88fc5d7a49e5a4d9ab07336035255898ab6a43b9666b0baf914df614e48\n",
            "  Stored in directory: /tmp/pip-ephem-wheel-cache-fax5kijk/wheels/2a/c1/a6/fc7a877b1efca9bc6a089d6f506f16d3868408f9ff89f8dbfc\n",
            "Successfully built en-core-web-lg\n",
            "Installing collected packages: en-core-web-lg\n",
            "Successfully installed en-core-web-lg-2.2.5\n",
            "\u001b[38;5;2m✔ Download and installation successful\u001b[0m\n",
            "You can now load the model via spacy.load('en_core_web_lg')\n"
          ],
          "name": "stdout"
        }
      ]
    },
    {
      "cell_type": "code",
      "metadata": {
        "id": "JSJc3DZNHwsN",
        "colab_type": "code",
        "outputId": "96482141-ec1c-475c-a1c6-7e60ff2a8d0e",
        "colab": {
          "base_uri": "https://localhost:8080/",
          "height": 68
        }
      },
      "source": [
        "!curl -L -O http://www.cs.cornell.edu/~cristian/data/cornell_movie_dialogs_corpus.zip\n",
        "\n"
      ],
      "execution_count": 0,
      "outputs": [
        {
          "output_type": "stream",
          "text": [
            "  % Total    % Received % Xferd  Average Speed   Time    Time     Time  Current\n",
            "                                 Dload  Upload   Total   Spent    Left  Speed\n",
            "100 9684k  100 9684k    0     0  5184k      0  0:00:01  0:00:01 --:--:-- 5184k\n"
          ],
          "name": "stdout"
        }
      ]
    },
    {
      "cell_type": "code",
      "metadata": {
        "id": "q4CbY8UtHy8W",
        "colab_type": "code",
        "outputId": "c9e47012-06fc-4664-916c-2fa9c75ec691",
        "colab": {
          "base_uri": "https://localhost:8080/",
          "height": 272
        }
      },
      "source": [
        "!unzip cornell_movie_dialogs_corpus.zip"
      ],
      "execution_count": 0,
      "outputs": [
        {
          "output_type": "stream",
          "text": [
            "Archive:  cornell_movie_dialogs_corpus.zip\n",
            "   creating: cornell movie-dialogs corpus/\n",
            "  inflating: cornell movie-dialogs corpus/.DS_Store  \n",
            "   creating: __MACOSX/\n",
            "   creating: __MACOSX/cornell movie-dialogs corpus/\n",
            "  inflating: __MACOSX/cornell movie-dialogs corpus/._.DS_Store  \n",
            "  inflating: cornell movie-dialogs corpus/chameleons.pdf  \n",
            "  inflating: __MACOSX/cornell movie-dialogs corpus/._chameleons.pdf  \n",
            "  inflating: cornell movie-dialogs corpus/movie_characters_metadata.txt  \n",
            "  inflating: cornell movie-dialogs corpus/movie_conversations.txt  \n",
            "  inflating: cornell movie-dialogs corpus/movie_lines.txt  \n",
            "  inflating: cornell movie-dialogs corpus/movie_titles_metadata.txt  \n",
            "  inflating: cornell movie-dialogs corpus/raw_script_urls.txt  \n",
            "  inflating: cornell movie-dialogs corpus/README.txt  \n",
            "  inflating: __MACOSX/cornell movie-dialogs corpus/._README.txt  \n"
          ],
          "name": "stdout"
        }
      ]
    },
    {
      "cell_type": "code",
      "metadata": {
        "id": "X-OuXvTdH4tY",
        "colab_type": "code",
        "colab": {}
      },
      "source": [
        "from sentence_transformers import SentenceTransformer\n",
        "embedder = SentenceTransformer('bert-base-nli-mean-tokens')"
      ],
      "execution_count": 0,
      "outputs": []
    },
    {
      "cell_type": "code",
      "metadata": {
        "id": "l6bvGN4YH42V",
        "colab_type": "code",
        "colab": {}
      },
      "source": [
        "import spacy, random\n",
        "nlp = spacy.load('en_core_web_lg')"
      ],
      "execution_count": 0,
      "outputs": []
    },
    {
      "cell_type": "code",
      "metadata": {
        "id": "EjTbAWpZH45R",
        "colab_type": "code",
        "colab": {}
      },
      "source": [
        "# Load Movielines & Conversations\n",
        "movie_lines = {}\n",
        "for line in open(\"./cornell movie-dialogs corpus/movie_lines.txt\",\n",
        "                 encoding=\"latin1\"):\n",
        "    line = line.strip()\n",
        "    parts = line.split(\" +++$+++ \")\n",
        "    if len(parts) == 5:\n",
        "        movie_lines[parts[0]] = parts[4]\n",
        "    else:\n",
        "        movie_lines[parts[0]] = \"\"\n",
        "\n",
        "import json\n",
        "responses = {}\n",
        "for line in open(\"./cornell movie-dialogs corpus/movie_conversations.txt\",\n",
        "                 encoding=\"latin1\"):\n",
        "    line = line.strip()\n",
        "    parts = line.split(\" +++$+++ \")\n",
        "    line_ids = json.loads(parts[3].replace(\"'\", '\"'))\n",
        "    for first, second in zip(line_ids[:-1], line_ids[1:]):\n",
        "        responses[first] = second"
      ],
      "execution_count": 0,
      "outputs": []
    },
    {
      "cell_type": "code",
      "metadata": {
        "id": "_mmCeCIgH48P",
        "colab_type": "code",
        "colab": {}
      },
      "source": [
        "import numpy as np\n",
        "def sentence_mean(nlp, s):\n",
        "    if s == \"\":\n",
        "        s = \" \"\n",
        "    doc = nlp(s, disable=['tagger', 'parser'])\n",
        "    return np.mean(np.array([w.vector for w in doc]), axis=0)\n",
        "sentence_mean(nlp, \"This... is a test.\").shape\n",
        "\n",
        "\n",
        "def sentence_vector_trnf(embedder, s):\n",
        "    if s == \"\":\n",
        "        s = \" \"\n",
        "    sentence_embedding = embedder.encode([s])\n",
        "    return sentence_embedding[0]"
      ],
      "execution_count": 0,
      "outputs": []
    },
    {
      "cell_type": "code",
      "metadata": {
        "id": "IVlYwQdjKUi4",
        "colab_type": "code",
        "outputId": "e4bb6066-3b3d-4a92-d354-f48df7cd6304",
        "colab": {
          "base_uri": "https://localhost:8080/",
          "height": 105
        }
      },
      "source": [
        "!pip install simpleneighbors\n"
      ],
      "execution_count": 0,
      "outputs": [
        {
          "output_type": "stream",
          "text": [
            "Collecting simpleneighbors\n",
            "  Downloading https://files.pythonhosted.org/packages/f9/10/9092e15d9aa4a9e5a263416121f124e565766767e7866e11d7074ec50df5/simpleneighbors-0.1.0-py2.py3-none-any.whl\n",
            "Installing collected packages: simpleneighbors\n",
            "Successfully installed simpleneighbors-0.1.0\n"
          ],
          "name": "stdout"
        }
      ]
    },
    {
      "cell_type": "code",
      "metadata": {
        "id": "p5_FSdMTKVY5",
        "colab_type": "code",
        "colab": {}
      },
      "source": [
        "from simpleneighbors import SimpleNeighbors"
      ],
      "execution_count": 0,
      "outputs": []
    },
    {
      "cell_type": "code",
      "metadata": {
        "id": "FYuvwWIxKVcn",
        "colab_type": "code",
        "colab": {}
      },
      "source": [
        "response_sample = random.sample(list(responses.keys()), 100000)\n"
      ],
      "execution_count": 0,
      "outputs": []
    },
    {
      "cell_type": "code",
      "metadata": {
        "id": "GObOM_OxKVgD",
        "colab_type": "code",
        "outputId": "e9b9469a-0e51-4345-a94f-c1b8d808def0",
        "colab": {
          "base_uri": "https://localhost:8080/",
          "height": 1000
        }
      },
      "source": [
        "#  Using GLOVE\n",
        "nns = SimpleNeighbors(300)\n",
        "for i, line_id in enumerate(response_sample):\n",
        "    # show progress\n",
        "    if i % 1000 == 0: print(i, line_id, movie_lines[line_id])\n",
        "    line_text = movie_lines[line_id]\n",
        "    summary_vector = sentence_mean(nlp, line_text)\n",
        "    if np.any(summary_vector):\n",
        "        nns.add_one(line_id, summary_vector)\n",
        "nns.build()\n"
      ],
      "execution_count": 0,
      "outputs": [
        {
          "output_type": "stream",
          "text": [
            "0 L348716 Yeah, it's getting late. I could sure use a bath.\n",
            "1000 L194535 Joely...\n",
            "2000 L243990 You're on this...\n",
            "3000 L172669 No. No. That's not it. We don't kill him. We don't kill anybody. But I like the way you're thinking. You're focused and you're trying to follow. No, what we need to do is start a fake Special Needs class.\n",
            "4000 L411369 No Roger from op/ed?\n",
            "5000 L68456 Yeah, it's the best one.\n",
            "6000 L542789 It's closed... closed. We need one that's open.\n",
            "7000 L172141 But you're my father -\n",
            "8000 L391845 Aaron?\n",
            "9000 L97404 Dorothy. No!\n",
            "10000 L374046 'Art thou the King of the Jews'?\n",
            "11000 L52540 Okay.  Then what?\n",
            "12000 L185335 You damn well thought wrong.\n",
            "13000 L23394 Anything else?\n",
            "14000 L222118 Would-be. I'm plagued with my share of difficulties just at the moment.\n",
            "15000 L490915 Is this in the line of duty, sergeant?\n",
            "16000 L46758 How do you think I felt -- riding home on that seven-fourteen train?\n",
            "17000 L535686 How do you know this...?\n",
            "18000 L525830 What's that?\n",
            "19000 L634440 Is that what you wanted to ask me?\n",
            "20000 L594666 Charlie wasn't drunk last night.\n",
            "21000 L478405 You pull a muscle or something?\n",
            "22000 L107202 Actually, yeah, she was nervous about Gino coming, wanted everything to look right.  You know women, Mick.\n",
            "23000 L567546 Miles, it's Sunday.  You promised to take the kids to Raging Waters today.\n",
            "24000 L559131 Boy, are you gonna get it.\n",
            "25000 L569990 I've got something important to do. I can't leave.\n",
            "26000 L424297 Rosa...\n",
            "27000 L207071 Pick a suit.\n",
            "28000 L458052 But why? She's the best friend I've got.\n",
            "29000 L262870 But Catholicism?  Why not your own people?\n",
            "30000 L357317 Well, they didn't actually mean that.\n",
            "31000 L199148 Two hours ago!\n",
            "32000 L409235 You gonna buy me a beer, Frankie?\n",
            "33000 L221617 Fine!\n",
            "34000 L23599 Hey, can you guys hear me?\n",
            "35000 L542922 I won't tell anybody if that's what you're worried about. I promise. You'll keep...\n",
            "36000 L277910 He waited for you three hours!\n",
            "37000 L650229 Lasher - bring us through!\n",
            "38000 L283482 Oh! In that case, the raise is off and you go back to your old salary and like it. Trying to blackjack --\n",
            "39000 L392694 What is your favorite colour?\n",
            "40000 L210921 Oh...\n",
            "41000 L192299 Barks at his master.\n",
            "42000 L265360 Am I on that case, sir...?\n",
            "43000 L486795 And are the police aware you dated the victim?\n",
            "44000 L359180 Father, please don't die.\n",
            "45000 L666504 Eleven o'clock, My LorJ 42\n",
            "46000 L382019 Dee, you've been useful for 50 years.  We're clueless, you're tired. Why don't you go home and get some rest.\n",
            "47000 L236579 But this guy is like a one-of-kind, rare butterfly, and we have to follow him back to his natural habitat...\n",
            "48000 L303021 Maybe she's telling the truth.\n",
            "49000 L547740 Tell it with <u>pictures</u>.\n",
            "50000 L633157 Nice night for a drive.  Morning really.  I guess that's about the only way to keep cool; riding around with the top down on a fancy convertible in the first hours of the day.\n",
            "51000 L227152 Where are they?\n",
            "52000 L235411 What kind of entertaining?\n",
            "53000 L326716 Mmm.  Hmm.\n",
            "54000 L295378 At school. It's Thursday.\n",
            "55000 L270034 Of course, Harold's father had a similar sense of the absurd. I remember once in Paris he stepped out for cigarettes and the next I hear he's arrested for floating nude down the Seine - experimenting in river currents with a pair of yellow rubber water wings. Well, that cost quite a little bit of \"enfluence\" and \"d'argent\" to hush up, I can tell you. Harold, dear, stop playing with your food. Don't you feel well?\n",
            "56000 L523308 Wow. You look beautiful.\n",
            "57000 L34525 Yes!  And he was such a dork!  And everyone laughed at me, but I didn't care?  Because it was so funny!\n",
            "58000 L538225 They don't place the same value on life that we do, Spock - you know that... take my word: she didn't shed one bloody tear...\n",
            "59000 L212981 Animals.\n",
            "60000 L94961 You want to dance?\n",
            "61000 L131337 It's time somebody ate *them*.\n",
            "62000 L169151 Yes. And believe me, of all the other mothers I would never dream of asking you, given the predicament with your son. But none of the other mothers are able to go.\n",
            "63000 L393426 That's how Congress--or any large body--is run. All work has to be done by committee.\n",
            "64000 L342468 The Scotsman's daughters are at the Poltroon's house. A company of the 33rd will accompany you and Magua will show you the way.\n",
            "65000 L199258 It's my goddamn car!\n",
            "66000 L454471 Hospital clean.\n",
            "67000 L349472 Thank you.\n",
            "68000 L439757 Yes.\n",
            "69000 L209073 Ridiculous! Just say you were hitchhiking to the airport and I picked you up. You never saw me before. Shit, this town is full of white Cadillac convertibles. I plan to go through there so fast that nobody will even glimpse the goddamn license plate. You ready?\n",
            "70000 L231987 How long?\n",
            "71000 L382122 I know what this is.    Zed, you in?\n",
            "72000 L269842 Tijuana.\n",
            "73000 L497622 I'm sorry. I can't do it.\n",
            "74000 L267720 He is my father.\n",
            "75000 L553172 You wanna bet he's with a girl?\n",
            "76000 L130029 Why?\n",
            "77000 L64763 What is the service, sir?\n",
            "78000 L470420 Freak luck for sure.\n",
            "79000 L470817 I got him on loan from Disney.\n",
            "80000 L135708 I jacked the car up. All she did was loosen the nuts and put the tire on.\n",
            "81000 L205596 Yah, but this TruCoat -\n",
            "82000 L395377 He talks about women as if they were cattle.\n",
            "83000 L134484 Ronnie! How are you? You work here now?\n",
            "84000 L97686 We're going to leave that up to Detective Williams. I'll tell you though, you're okay. You shot a real son of a bitch.\n",
            "85000 L26626 Let's get the fuck out of here!\n",
            "86000 L553311 So how's college?\n",
            "87000 L405667 Hi.\n",
            "88000 L616252 He's certainly good-natured.\n",
            "89000 L208940 Man I'll try about anything; but I'd never touch a pineal gland.\n",
            "90000 L50056 He saw you and Corbett come in...\n",
            "91000 L478326 Remember I told you my father was a policeman?  Ricky Tan was his partner for ten years.\n",
            "92000 L111135 You know, smoking's bad for you.\n",
            "93000 L199054 I'm putting my stuff on the right, okay?\n",
            "94000 L362999 ....Why does he do it...?\n",
            "95000 L599065 Tough luck.\n",
            "96000 L463898 Gabriel! You said talk to him. That's all you ever said...\n",
            "97000 L408238 Let me check on Scott. He's hurt bad.\n",
            "98000 L150869 I've wanted a friend.\n",
            "99000 L623122 Take this back with you.  Deliver it safely to Tigrillo in San Diego and we have a deal.\n"
          ],
          "name": "stdout"
        }
      ]
    },
    {
      "cell_type": "code",
      "metadata": {
        "id": "36rAgQ3XKyaC",
        "colab_type": "code",
        "outputId": "8c12f1ba-4a26-4295-9a00-adb460a59965",
        "colab": {
          "base_uri": "https://localhost:8080/",
          "height": 1000
        }
      },
      "source": [
        "# Using Sentence Embedder\n",
        "nns_trf = SimpleNeighbors(768)\n",
        "for i, line_id in enumerate(response_sample):\n",
        "    # show progress\n",
        "    if i % 1000 == 0: print(i, line_id, movie_lines[line_id])\n",
        "    line_text = movie_lines[line_id]\n",
        "    summary_vector = sentence_vector_trnf(embedder, line_text)\n",
        "    if np.any(summary_vector):\n",
        "        nns_trf.add_one(line_id, summary_vector)\n",
        "nns_trf.build()"
      ],
      "execution_count": 0,
      "outputs": [
        {
          "output_type": "stream",
          "text": [
            "0 L348716 Yeah, it's getting late. I could sure use a bath.\n",
            "1000 L194535 Joely...\n",
            "2000 L243990 You're on this...\n",
            "3000 L172669 No. No. That's not it. We don't kill him. We don't kill anybody. But I like the way you're thinking. You're focused and you're trying to follow. No, what we need to do is start a fake Special Needs class.\n",
            "4000 L411369 No Roger from op/ed?\n",
            "5000 L68456 Yeah, it's the best one.\n",
            "6000 L542789 It's closed... closed. We need one that's open.\n",
            "7000 L172141 But you're my father -\n",
            "8000 L391845 Aaron?\n",
            "9000 L97404 Dorothy. No!\n",
            "10000 L374046 'Art thou the King of the Jews'?\n",
            "11000 L52540 Okay.  Then what?\n",
            "12000 L185335 You damn well thought wrong.\n",
            "13000 L23394 Anything else?\n",
            "14000 L222118 Would-be. I'm plagued with my share of difficulties just at the moment.\n",
            "15000 L490915 Is this in the line of duty, sergeant?\n",
            "16000 L46758 How do you think I felt -- riding home on that seven-fourteen train?\n",
            "17000 L535686 How do you know this...?\n",
            "18000 L525830 What's that?\n",
            "19000 L634440 Is that what you wanted to ask me?\n",
            "20000 L594666 Charlie wasn't drunk last night.\n",
            "21000 L478405 You pull a muscle or something?\n",
            "22000 L107202 Actually, yeah, she was nervous about Gino coming, wanted everything to look right.  You know women, Mick.\n",
            "23000 L567546 Miles, it's Sunday.  You promised to take the kids to Raging Waters today.\n",
            "24000 L559131 Boy, are you gonna get it.\n",
            "25000 L569990 I've got something important to do. I can't leave.\n",
            "26000 L424297 Rosa...\n",
            "27000 L207071 Pick a suit.\n",
            "28000 L458052 But why? She's the best friend I've got.\n",
            "29000 L262870 But Catholicism?  Why not your own people?\n",
            "30000 L357317 Well, they didn't actually mean that.\n",
            "31000 L199148 Two hours ago!\n",
            "32000 L409235 You gonna buy me a beer, Frankie?\n",
            "33000 L221617 Fine!\n",
            "34000 L23599 Hey, can you guys hear me?\n",
            "35000 L542922 I won't tell anybody if that's what you're worried about. I promise. You'll keep...\n",
            "36000 L277910 He waited for you three hours!\n",
            "37000 L650229 Lasher - bring us through!\n",
            "38000 L283482 Oh! In that case, the raise is off and you go back to your old salary and like it. Trying to blackjack --\n",
            "39000 L392694 What is your favorite colour?\n",
            "40000 L210921 Oh...\n",
            "41000 L192299 Barks at his master.\n",
            "42000 L265360 Am I on that case, sir...?\n",
            "43000 L486795 And are the police aware you dated the victim?\n",
            "44000 L359180 Father, please don't die.\n",
            "45000 L666504 Eleven o'clock, My LorJ 42\n",
            "46000 L382019 Dee, you've been useful for 50 years.  We're clueless, you're tired. Why don't you go home and get some rest.\n",
            "47000 L236579 But this guy is like a one-of-kind, rare butterfly, and we have to follow him back to his natural habitat...\n",
            "48000 L303021 Maybe she's telling the truth.\n",
            "49000 L547740 Tell it with <u>pictures</u>.\n",
            "50000 L633157 Nice night for a drive.  Morning really.  I guess that's about the only way to keep cool; riding around with the top down on a fancy convertible in the first hours of the day.\n",
            "51000 L227152 Where are they?\n",
            "52000 L235411 What kind of entertaining?\n",
            "53000 L326716 Mmm.  Hmm.\n",
            "54000 L295378 At school. It's Thursday.\n",
            "55000 L270034 Of course, Harold's father had a similar sense of the absurd. I remember once in Paris he stepped out for cigarettes and the next I hear he's arrested for floating nude down the Seine - experimenting in river currents with a pair of yellow rubber water wings. Well, that cost quite a little bit of \"enfluence\" and \"d'argent\" to hush up, I can tell you. Harold, dear, stop playing with your food. Don't you feel well?\n",
            "56000 L523308 Wow. You look beautiful.\n",
            "57000 L34525 Yes!  And he was such a dork!  And everyone laughed at me, but I didn't care?  Because it was so funny!\n",
            "58000 L538225 They don't place the same value on life that we do, Spock - you know that... take my word: she didn't shed one bloody tear...\n",
            "59000 L212981 Animals.\n",
            "60000 L94961 You want to dance?\n",
            "61000 L131337 It's time somebody ate *them*.\n",
            "62000 L169151 Yes. And believe me, of all the other mothers I would never dream of asking you, given the predicament with your son. But none of the other mothers are able to go.\n",
            "63000 L393426 That's how Congress--or any large body--is run. All work has to be done by committee.\n",
            "64000 L342468 The Scotsman's daughters are at the Poltroon's house. A company of the 33rd will accompany you and Magua will show you the way.\n",
            "65000 L199258 It's my goddamn car!\n",
            "66000 L454471 Hospital clean.\n",
            "67000 L349472 Thank you.\n",
            "68000 L439757 Yes.\n",
            "69000 L209073 Ridiculous! Just say you were hitchhiking to the airport and I picked you up. You never saw me before. Shit, this town is full of white Cadillac convertibles. I plan to go through there so fast that nobody will even glimpse the goddamn license plate. You ready?\n",
            "70000 L231987 How long?\n",
            "71000 L382122 I know what this is.    Zed, you in?\n",
            "72000 L269842 Tijuana.\n",
            "73000 L497622 I'm sorry. I can't do it.\n",
            "74000 L267720 He is my father.\n",
            "75000 L553172 You wanna bet he's with a girl?\n",
            "76000 L130029 Why?\n",
            "77000 L64763 What is the service, sir?\n",
            "78000 L470420 Freak luck for sure.\n",
            "79000 L470817 I got him on loan from Disney.\n",
            "80000 L135708 I jacked the car up. All she did was loosen the nuts and put the tire on.\n",
            "81000 L205596 Yah, but this TruCoat -\n",
            "82000 L395377 He talks about women as if they were cattle.\n",
            "83000 L134484 Ronnie! How are you? You work here now?\n",
            "84000 L97686 We're going to leave that up to Detective Williams. I'll tell you though, you're okay. You shot a real son of a bitch.\n",
            "85000 L26626 Let's get the fuck out of here!\n",
            "86000 L553311 So how's college?\n",
            "87000 L405667 Hi.\n",
            "88000 L616252 He's certainly good-natured.\n",
            "89000 L208940 Man I'll try about anything; but I'd never touch a pineal gland.\n",
            "90000 L50056 He saw you and Corbett come in...\n",
            "91000 L478326 Remember I told you my father was a policeman?  Ricky Tan was his partner for ten years.\n",
            "92000 L111135 You know, smoking's bad for you.\n",
            "93000 L199054 I'm putting my stuff on the right, okay?\n",
            "94000 L362999 ....Why does he do it...?\n",
            "95000 L599065 Tough luck.\n",
            "96000 L463898 Gabriel! You said talk to him. That's all you ever said...\n",
            "97000 L408238 Let me check on Scott. He's hurt bad.\n",
            "98000 L150869 I've wanted a friend.\n",
            "99000 L623122 Take this back with you.  Deliver it safely to Tigrillo in San Diego and we have a deal.\n"
          ],
          "name": "stdout"
        }
      ]
    },
    {
      "cell_type": "code",
      "metadata": {
        "id": "7lgmgLTQK28b",
        "colab_type": "code",
        "outputId": "b54cdfce-279e-4a47-aa59-a0b654256052",
        "colab": {
          "base_uri": "https://localhost:8080/",
          "height": 119
        }
      },
      "source": [
        "# Glove Predictions\n",
        "sentence = \" Good evening, Captain.\"\n",
        "picked = nns.nearest(sentence_mean(nlp, sentence), 5)[0]\n",
        "response_line_id = responses[picked]\n",
        "\n",
        "print(\"Your line:\\n\\t\", sentence)\n",
        "print(\"Most similar turn:\\n\\t\", movie_lines[picked])\n",
        "print(\"Response to most similar turn:\\n\\t\", movie_lines[response_line_id])\n"
      ],
      "execution_count": 0,
      "outputs": [
        {
          "output_type": "stream",
          "text": [
            "Your line:\n",
            "\t  Good evening, Captain.\n",
            "Most similar turn:\n",
            "\t Good luck, Captain.\n",
            "Response to most similar turn:\n",
            "\t Don't need it, I'm a cat, I've got five lives.\n"
          ],
          "name": "stdout"
        }
      ]
    },
    {
      "cell_type": "code",
      "metadata": {
        "id": "Z8pvsofcK3K5",
        "colab_type": "code",
        "outputId": "5c67b90d-1dab-49cf-d538-b6faab5c22a1",
        "colab": {
          "base_uri": "https://localhost:8080/",
          "height": 119
        }
      },
      "source": [
        "# SBert predictions\n",
        "sentence = \" Good evening, Captain.\"\n",
        "picked = nns_trf.nearest(sentence_vector_trnf(embedder, sentence), 5)[0]\n",
        "response_line_id = responses[picked]\n",
        "\n",
        "print(\"Your line:\\n\\t\", sentence)\n",
        "print(\"Most similar turn:\\n\\t\", movie_lines[picked])\n",
        "print(\"Response to most similar turn:\\n\\t\", movie_lines[response_line_id])"
      ],
      "execution_count": 0,
      "outputs": [
        {
          "output_type": "stream",
          "text": [
            "Your line:\n",
            "\t  Good evening, Captain.\n",
            "Most similar turn:\n",
            "\t Good evening, sir.\n",
            "Response to most similar turn:\n",
            "\t Good evening.\n"
          ],
          "name": "stdout"
        }
      ]
    },
    {
      "cell_type": "code",
      "metadata": {
        "id": "r1EEp4oPR8SL",
        "colab_type": "code",
        "colab": {}
      },
      "source": [
        "# Get 5 nearest semantic responses\n",
        "picked_list_nns_trf = nns_trf.nearest(sentence_vector_trnf(embedder, sentence), 5)\n",
        "picked_list_nns = nns.nearest(sentence_mean(nlp, sentence), 5)"
      ],
      "execution_count": 0,
      "outputs": []
    },
    {
      "cell_type": "code",
      "metadata": {
        "id": "s2WctiW9SB2i",
        "colab_type": "code",
        "outputId": "5050320a-7072-49fe-ef95-6f7927b53569",
        "colab": {
          "base_uri": "https://localhost:8080/",
          "height": 442
        }
      },
      "source": [
        "choice_count = 1\n",
        "for choice in picked_list_nns:\n",
        "  response_line_id = responses[choice]\n",
        "  print(choice_count)\n",
        "  print(\"Most similar turn:\\n\\t\", movie_lines[choice])\n",
        "  print(\"Response to most similar turn:\\n\\t\", movie_lines[response_line_id])\n",
        "  choice_count += 1"
      ],
      "execution_count": 0,
      "outputs": [
        {
          "output_type": "stream",
          "text": [
            "1\n",
            "Most similar turn:\n",
            "\t Good luck, Captain.\n",
            "Response to most similar turn:\n",
            "\t Don't need it, I'm a cat, I've got five lives.\n",
            "2\n",
            "Most similar turn:\n",
            "\t Good luck, Captain.\n",
            "Response to most similar turn:\n",
            "\t I'm going too. They may need a doctor.\n",
            "3\n",
            "Most similar turn:\n",
            "\t Good evening, sir.\n",
            "Response to most similar turn:\n",
            "\t I come to the old lady's funeral.\n",
            "4\n",
            "Most similar turn:\n",
            "\t Good evening, sir.\n",
            "Response to most similar turn:\n",
            "\t Good evening, Mademoiselle.\n",
            "5\n",
            "Most similar turn:\n",
            "\t Good evening, sir.\n",
            "Response to most similar turn:\n",
            "\t Good evening.\n"
          ],
          "name": "stdout"
        }
      ]
    },
    {
      "cell_type": "code",
      "metadata": {
        "id": "A--1-kT1TvvS",
        "colab_type": "code",
        "outputId": "504378a5-a9d6-426a-a2e4-924b555224e5",
        "colab": {
          "base_uri": "https://localhost:8080/",
          "height": 442
        }
      },
      "source": [
        "choice_count = 1\n",
        "for choice in picked_list_nns_trf:\n",
        "  response_line_id = responses[choice]\n",
        "  print(choice_count)\n",
        "  print(\"Most similar turn:\\n\\t\", movie_lines[choice])\n",
        "  print(\"Response to most similar turn:\\n\\t\", movie_lines[response_line_id])\n",
        "  choice_count += 1\n",
        "\n"
      ],
      "execution_count": 0,
      "outputs": [
        {
          "output_type": "stream",
          "text": [
            "1\n",
            "Most similar turn:\n",
            "\t Good evening, sir.\n",
            "Response to most similar turn:\n",
            "\t Good evening.\n",
            "2\n",
            "Most similar turn:\n",
            "\t Good evening, sir.\n",
            "Response to most similar turn:\n",
            "\t I come to the old lady's funeral.\n",
            "3\n",
            "Most similar turn:\n",
            "\t Good evening, sir.\n",
            "Response to most similar turn:\n",
            "\t Good evening, Mademoiselle.\n",
            "4\n",
            "Most similar turn:\n",
            "\t Good evening.\n",
            "Response to most similar turn:\n",
            "\t Hi.\n",
            "5\n",
            "Most similar turn:\n",
            "\t Good evening.\n",
            "Response to most similar turn:\n",
            "\t Hi. You have hard shells, right?\n"
          ],
          "name": "stdout"
        }
      ]
    }
  ]
}